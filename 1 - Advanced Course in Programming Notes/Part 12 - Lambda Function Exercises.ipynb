{
 "cells": [
  {
   "cell_type": "markdown",
   "metadata": {},
   "source": [
    "https://www.w3resource.com/python-exercises/lambda/index.php"
   ]
  },
  {
   "cell_type": "markdown",
   "metadata": {},
   "source": [
    "Write a Python program to create a lambda function that adds 15 to a given number passed in as an argument, also create a lambda function that multiplies argument x with argument y and prints the result.\n",
    "\n",
    "Sample Output:\n",
    "```shell\n",
    "25\n",
    "48\n",
    "```"
   ]
  },
  {
   "cell_type": "code",
   "execution_count": 2,
   "metadata": {},
   "outputs": [
    {
     "name": "stdout",
     "output_type": "stream",
     "text": [
      "25\n",
      "48\n"
     ]
    }
   ],
   "source": [
    "# Define a lambda function 'r' that takes a single argument 'a' and returns 'a + 15'\n",
    "r = lambda a: a + 15\n",
    "\n",
    "# Print the result of calling the lambda function 'r' with argument 10\n",
    "print(r(10))\n",
    "\n",
    "# Reassign 'r' to a new lambda function that takes two arguments 'x' and 'y' and returns their product\n",
    "r = lambda x, y: x * y\n",
    "\n",
    "# Print the result of calling the updated lambda function 'r' with arguments 12 and 4\n",
    "print(r(12, 4))"
   ]
  },
  {
   "cell_type": "markdown",
   "metadata": {},
   "source": [
    "**Explanation:**\n",
    "\n",
    "**Lambda Function Creation**:\n",
    "`r = lambda a: a + 15`\n",
    "- This line creates a lambda function named r.\n",
    "- The lambda function takes a single argument a and returns a + 15.\n",
    "- This lambda function adds 15 to the arguments passed to it.\n",
    "\n",
    "Lambda Function Invocation:\n",
    "`print(r(10))`\n",
    "- The code calls the lambda function r with the argument 10.\n",
    "- It prints the result of invoking the lambda function with 10, which evaluates to 10 + 15 = 25.\n",
    "\n",
    "**Reassignment of r to a New Lambda Function**:\n",
    "`r = lambda x, y: x * y`\n",
    "- This line reassigns the variable r to a new lambda function.\n",
    "- The new lambda function takes two arguments x and y.\n",
    "- It returns the product of x and y (x * y).\n",
    "\n",
    "Lambda Function Invocation with Multiple Arguments:\n",
    "`print(r(12, 4))`\n",
    "- This code calls the updated lambda function r with arguments 12 and 4.\n",
    "- It prints the result of invoking the lambda function with 12 and 4, which evaluates to 12 * 4 = 48."
   ]
  },
  {
   "cell_type": "markdown",
   "metadata": {},
   "source": [
    "Write a Python program to create a function that takes one argument, and that argument will be multiplied with an unknown given number.\n",
    "\n",
    "Sample Output:\n",
    "```shell\n",
    "Double the number of 15 = 30\n",
    "Triple the number of 15 = 45\n",
    "Quadruple the number of 15 = 60\n",
    "Quintuple the number 15 = 75\n",
    "```"
   ]
  },
  {
   "cell_type": "code",
   "execution_count": 3,
   "metadata": {},
   "outputs": [
    {
     "name": "stdout",
     "output_type": "stream",
     "text": [
      "Double the number of 15 = 30\n",
      "Triple the number of 15 = 45\n",
      "Quadruple the number of 15 = 60\n",
      "Quintuple the number 15 = 75\n"
     ]
    }
   ],
   "source": [
    "# Define a function 'func_compute' that takes a parameter 'n' and returns a lambda function\n",
    "# The returned lambda function multiplies its argument 'x' by 'n'\n",
    "def func_compute(n):\n",
    "    return lambda x: x * n\n",
    "\n",
    "# Assign the result of calling func_compute with argument 2 to the variable 'result'\n",
    "result = func_compute(2)\n",
    "# Print the result of calling the lambda function stored in 'result' with argument 15\n",
    "print(\"Double the number of 15 =\", result(15))\n",
    "\n",
    "# Reassign 'result' with the result of calling func_compute with argument 3\n",
    "result = func_compute(3)\n",
    "# Print the result of calling the lambda function stored in 'result' with argument 15\n",
    "print(\"Triple the number of 15 =\", result(15))\n",
    "\n",
    "# Reassign 'result' with the result of calling func_compute with argument 4\n",
    "result = func_compute(4)\n",
    "# Print the result of calling the lambda function stored in 'result' with argument 15\n",
    "print(\"Quadruple the number of 15 =\", result(15))\n",
    "\n",
    "# Reassign 'result' with the result of calling func_compute with argument 5\n",
    "result = func_compute(5)\n",
    "# Print the result of calling the lambda function stored in 'result' with argument 15\n",
    "print(\"Quintuple the number 15 =\", result(15))"
   ]
  },
  {
   "cell_type": "markdown",
   "metadata": {},
   "source": [
    "**Explanation**:\n",
    "\n",
    "In the exercise above func_compute(n) takes an argument 'n' and returns a lambda function that multiplies its input (x) by the value of 'n'.\n",
    "\n",
    "- result = func_compute(2): Calls 'func_compute' with an argument of 2 and assigns the returned lambda function to the variable 'result'.\n",
    "- print(\"Double the number of 15 =\", result(15)): Calls the lambda function stored in 'result' with an argument of 15, effectively doubling the number 15 and prints the result.\n",
    "\n",
    "Then, the same process is repeated with different values for n:\n",
    "\n",
    "- result = func_compute(3): Calls 'func_compute' with an argument of 3 and assigns the returned lambda function to 'result'.\n",
    "- print(\"Triple the number of 15 =\", result(15)): Calls the lambda function stored in 'result' with an argument of 15, tripling the number 15 and prints the result.\n",
    "\n",
    "This sequence continues for 4 and 5."
   ]
  },
  {
   "cell_type": "markdown",
   "metadata": {},
   "source": [
    "Write a Python program to sort a list of tuples using Lambda.\n",
    "\n",
    "```\n",
    "Original list of tuples:\n",
    "[('English', 88), ('Science', 90), ('Maths', 97), ('Social sciences', 82)]\n",
    "\n",
    "Sorting the List of Tuples:\n",
    "[('Social sciences', 82), ('English', 88), ('Science', 90), ('Maths', 97)]\n",
    "```"
   ]
  },
  {
   "cell_type": "code",
   "execution_count": 7,
   "metadata": {},
   "outputs": [
    {
     "name": "stdout",
     "output_type": "stream",
     "text": [
      "Original list of tuples:\n",
      "[('English', 88), ('Science', 90), ('Maths', 97), ('Social sciences', 82)]\n",
      "\n",
      "Sorting the List of Tuples:\n",
      "[('Social sciences', 82), ('English', 88), ('Science', 90), ('Maths', 97)]\n"
     ]
    }
   ],
   "source": [
    "# Create a list of tuples named 'subject_marks', each tuple containing a subject and its corresponding marks\n",
    "subject_marks = [('English', 88), ('Science', 90), ('Maths', 97), ('Social sciences', 82)]\n",
    "\n",
    "# Display the original list of tuples to the console\n",
    "print(\"Original list of tuples:\")\n",
    "print(subject_marks)\n",
    "\n",
    "# Sort the 'subject_marks' list of tuples based on the second element of each tuple (the marks),\n",
    "# using a lambda function as the sorting key to extract the second element\n",
    "subject_marks.sort(key=lambda x: x[1])\n",
    "\n",
    "# Display the sorted list of tuples to the console\n",
    "print(\"\\nSorting the List of Tuples:\")\n",
    "print(subject_marks) "
   ]
  },
  {
   "cell_type": "markdown",
   "metadata": {},
   "source": [
    "**Explanation**:\n",
    "\n",
    "In the exercise above -\n",
    "\n",
    "- subject_marks = [('English', 88), ('Science', 90), ('Maths', 97), ('Social sciences', 82)]: Initializes a list of tuples named 'subject_marks'. Each tuple contains a subject (string) as its first element and the corresponding marks (integer) as its second element.\n",
    "- print(\"Original list of tuples:\"): Prints a message indicating that the following output will display the original list of tuples.\n",
    "- print(subject_marks): Displays the original list of tuples ('subject_marks') to the console.\n",
    "- subject_marks.sort(key=lambda x: x[1]): Sorts the list of tuples (subject_marks) based on the second element of each tuple (i.e., the marks). It uses a lambda function as the sorting key, which extracts the second element (x[1]) for sorting purposes.\n",
    "- print(\"\\nSorting the List of Tuples:\"): Prints a message indicating that the following output will display the sorted list of tuples.\n",
    "- print(subject_marks): Displays the sorted list of tuples (now sorted based on marks) to the console."
   ]
  },
  {
   "cell_type": "markdown",
   "metadata": {},
   "source": [
    "Write a Python program to sort a list of dictionaries using Lambda.\n",
    "```\n",
    "Original list of dictionaries :\n",
    "[{'make': 'Nokia', 'model': 216, 'color': 'Black'}, {'make': 'Mi Max', 'model': '2', 'color': 'Gold'}, {'make': 'Samsung', 'model': 7, 'color': 'Blue'}]\n",
    "Sorting the List of dictionaries :\n",
    "[{'make': 'Nokia', 'model': 216, 'color': 'Black'}, {'make': 'Samsung', 'model': 7, 'color': 'Blue'}, {'make': 'Mi Max', 'model': '2', 'color': 'Gold'}]\n",
    "```"
   ]
  },
  {
   "cell_type": "code",
   "execution_count": 11,
   "metadata": {},
   "outputs": [
    {
     "name": "stdout",
     "output_type": "stream",
     "text": [
      "Original list of dictionaries:\n",
      "[{'make': 'Nokia', 'model': 216, 'color': 'Black'}, {'make': 'Mi Max', 'model': '2', 'color': 'Gold'}, {'make': 'Samsung', 'model': 7, 'color': 'Blue'}]\n",
      "\n",
      "Sorting the List of dictionaries:\n",
      "[{'make': 'Nokia', 'model': 216, 'color': 'Black'}, {'make': 'Samsung', 'model': 7, 'color': 'Blue'}, {'make': 'Mi Max', 'model': '2', 'color': 'Gold'}]\n"
     ]
    }
   ],
   "source": [
    "# Create a list of dictionaries named 'models', each dictionary representing a mobile phone model with 'make', 'model', and 'color' keys\n",
    "models = [\n",
    "    {'make': 'Nokia', 'model': 216, 'color': 'Black'},\n",
    "    {'make': 'Mi Max', 'model': '2', 'color': 'Gold'},\n",
    "    {'make': 'Samsung', 'model': 7, 'color': 'Blue'}\n",
    "]\n",
    "\n",
    "# Display a message indicating that the following output will show the original list of dictionaries\n",
    "print(\"Original list of dictionaries:\")\n",
    "print(models)\n",
    "\n",
    "# Sort the list of dictionaries ('models') based on the value associated with the 'color' key in each dictionary\n",
    "# Uses the 'sorted()' function with a lambda function as the sorting key to sort based on the 'color' value\n",
    "sorted_models = sorted(models, key=lambda x: x['color'])\n",
    "\n",
    "# Display a message indicating that the following output will show the sorted list of dictionaries\n",
    "print(\"\\nSorting the List of dictionaries:\")\n",
    "print(sorted_models) "
   ]
  },
  {
   "cell_type": "markdown",
   "metadata": {},
   "source": [
    "Write a Python program to filter a list of integers using Lambda.\n",
    "```\n",
    "Original list of integers:\n",
    "[1, 2, 3, 4, 5, 6, 7, 8, 9, 10]\n",
    "Even numbers from the said list:\n",
    "[2, 4, 6, 8, 10]\n",
    "Odd numbers from the said list:\n",
    "[1, 3, 5, 7, 9]\n",
    "```"
   ]
  },
  {
   "cell_type": "code",
   "execution_count": 16,
   "metadata": {},
   "outputs": [
    {
     "name": "stdout",
     "output_type": "stream",
     "text": [
      "Original list of integers:\n",
      "[1, 2, 3, 4, 5, 6, 7, 8, 9, 10]\n",
      "Even numbers from the said list:\n",
      "[2, 4, 6, 8, 10]\n",
      "Odd numbers from the said list:\n",
      "[1, 3, 5, 7, 9]\n"
     ]
    }
   ],
   "source": [
    "# Method 1 - Without Lambda:\n",
    "\n",
    "int_list = [1, 2, 3, 4, 5, 6, 7, 8, 9, 10]\n",
    "\n",
    "print(\"Original list of integers:\")\n",
    "print(int_list)\n",
    "\n",
    "print(\"Even numbers from the said list:\")\n",
    "even_list = [n for n in int_list if n % 2 == 0]\n",
    "print(even_list)\n",
    "\n",
    "print(\"Odd numbers from the said list:\")\n",
    "odd_list = [n for n in int_list if n % 2 != 0]\n",
    "print(odd_list)"
   ]
  },
  {
   "cell_type": "code",
   "execution_count": 20,
   "metadata": {},
   "outputs": [
    {
     "name": "stdout",
     "output_type": "stream",
     "text": [
      "Original list of integers:\n",
      "[1, 2, 3, 4, 5, 6, 7, 8, 9, 10]\n",
      "\n",
      "Even numbers from the said list:\n",
      "[2, 4, 6, 8, 10]\n",
      "\n",
      "Odd numbers from the said list:\n",
      "[1, 3, 5, 7, 9]\n"
     ]
    }
   ],
   "source": [
    "# Method 2 - With Lambda:\n",
    "\n",
    "# Create a list of integers named 'nums'\n",
    "nums = [1, 2, 3, 4, 5, 6, 7, 8, 9, 10]\n",
    "\n",
    "# Display a message indicating that the following output will show the original list of integers\n",
    "print(\"Original list of integers:\")\n",
    "print(nums)\n",
    "\n",
    "# Display a message indicating that the following output will show even numbers from the list\n",
    "print(\"\\nEven numbers from the said list:\")\n",
    "\n",
    "# Use the 'filter()' function with a lambda function to filter even numbers from 'nums'\n",
    "# Create a new list 'even_nums' containing only the even numbers from the original list\n",
    "even_nums = list(filter(lambda x: x % 2 == 0, nums))\n",
    "print(even_nums)\n",
    "\n",
    "# Display a message indicating that the following output will show odd numbers from the list\n",
    "print(\"\\nOdd numbers from the said list:\")\n",
    "\n",
    "# Use the 'filter()' function with a lambda function to filter odd numbers from 'nums'\n",
    "# Create a new list 'odd_nums' containing only the odd numbers from the original list\n",
    "odd_nums = list(filter(lambda x: x % 2 != 0, nums))\n",
    "print(odd_nums) "
   ]
  },
  {
   "cell_type": "markdown",
   "metadata": {},
   "source": [
    "**Explanation**:\n",
    "Filters even and odd numbers from the 'nums' list separately and prints them:\n",
    "- It uses the \"filter()\" function with a lambda function to filter even numbers from the 'nums' list. The lambda function checks if the number is even (x % 2 == 0) and creates a new list called 'even_nums' containing only even numbers.\n",
    "- It then prints the list of even numbers ('even_nums').\n",
    "- Similarly, it uses the \"filter()\" function with a lambda function to filter odd numbers from the 'nums' list. The lambda function checks if the number is odd (x % 2 != 0) and creates a new list called 'odd_nums' containing only the odd numbers.\n",
    "- It then prints the list of odd numbers ('odd_nums')."
   ]
  },
  {
   "cell_type": "markdown",
   "metadata": {},
   "source": [
    "Write a Python program to square and cube every number in a given list of integers using Lambda.\n",
    "```\n",
    "Original list of integers:\n",
    "[1, 2, 3, 4, 5, 6, 7, 8, 9, 10]\n",
    "Square every number of the said list:\n",
    "[1, 4, 9, 16, 25, 36, 49, 64, 81, 100]\n",
    "Cube every number of the said list:\n",
    "[1, 8, 27, 64, 125, 216, 343, 512, 729, 1000]\n",
    "```"
   ]
  },
  {
   "cell_type": "code",
   "execution_count": 23,
   "metadata": {},
   "outputs": [
    {
     "name": "stdout",
     "output_type": "stream",
     "text": [
      "Original list of integers:\n",
      "[1, 2, 3, 4, 5, 6, 7, 8, 9, 10]\n",
      "\n",
      "Square every number of the said list:\n",
      "[1, 4, 9, 16, 25, 36, 49, 64, 81, 100]\n",
      "\n",
      "Cube every number of the said list:\n",
      "[1, 8, 27, 64, 125, 216, 343, 512, 729, 1000]\n"
     ]
    }
   ],
   "source": [
    "# Create a list of integers named 'nums'\n",
    "nums = [1, 2, 3, 4, 5, 6, 7, 8, 9, 10]\n",
    "\n",
    "# Display a message indicating that the following output will show the original list of integers\n",
    "print(\"Original list of integers:\")\n",
    "print(nums)\n",
    "\n",
    "# Display a message indicating that the following output will show each number in the list squared\n",
    "print(\"\\nSquare every number of the said list:\")\n",
    "\n",
    "# Use the 'map()' function with a lambda function to square each number in the 'nums' list\n",
    "# Create a new list 'square_nums' containing the squared values of the original list\n",
    "square_nums = list(map(lambda x: x ** 2, nums))\n",
    "print(square_nums)\n",
    "\n",
    "# Display a message indicating that the following output will show each number in the list cubed\n",
    "print(\"\\nCube every number of the said list:\")\n",
    "\n",
    "# Use the 'map()' function with a lambda function to cube each number in the 'nums' list\n",
    "# Create a new list 'cube_nums' containing the cubed values of the original list\n",
    "cube_nums = list(map(lambda x: x ** 3, nums))\n",
    "print(cube_nums)"
   ]
  },
  {
   "cell_type": "markdown",
   "metadata": {},
   "source": [
    "**Explanation**:\n",
    "\n",
    "Uses the \"map()\" function along with lambda functions to perform mathematical operations on each number in the 'nums' list:\n",
    "- The code uses \"map()\" with a lambda function to square each number in the 'nums' list.\n",
    "    - It creates a new list named 'square_nums' containing the squared values of the original list.\n",
    "- Then, it uses \"map()\" with another lambda function to cube each number in the 'nums' list.\n",
    "    - It creates a new list named 'cube_nums' containing the cubed values of the original list."
   ]
  },
  {
   "cell_type": "markdown",
   "metadata": {},
   "source": [
    "Write a Python program to find if a given string starts with a given character using Lambda.\n",
    "\n",
    "Sample Output:\n",
    "```\n",
    "True\n",
    "False\n",
    "```"
   ]
  },
  {
   "cell_type": "code",
   "execution_count": 26,
   "metadata": {},
   "outputs": [
    {
     "name": "stdout",
     "output_type": "stream",
     "text": [
      "True\n",
      "False\n"
     ]
    }
   ],
   "source": [
    "# Method 1:\n",
    "r = lambda x,y: x[0] == y\n",
    "\n",
    "word = \"Sexy\"\n",
    "\n",
    "print(r(word, \"S\"))\n",
    "print(r(word, \"F\"))"
   ]
  },
  {
   "cell_type": "code",
   "execution_count": 27,
   "metadata": {},
   "outputs": [
    {
     "name": "stdout",
     "output_type": "stream",
     "text": [
      "True\n",
      "False\n"
     ]
    }
   ],
   "source": [
    "# Define a lambda function 'starts_with' that checks if a given string starts with 'P'\n",
    "starts_with = lambda x: True if x.startswith('P') else False\n",
    "\n",
    "# Check if the string 'Python' starts with 'P' using the 'starts_with' lambda function\n",
    "# Print the result which will be 'True' if the string starts with 'P', otherwise 'False'\n",
    "print(starts_with('Python'))\n",
    "\n",
    "# Redefine the lambda function 'starts_with' (same as before) to check if a string starts with 'P'\n",
    "# Check if the string 'Java' starts with 'P' using the 'starts_with' lambda function\n",
    "# Print the result which will be 'True' if the string starts with 'P', otherwise 'False'\n",
    "print(starts_with('Java')) "
   ]
  },
  {
   "cell_type": "markdown",
   "metadata": {},
   "source": [
    "**Explanation**:\n",
    "\n",
    "- Defines a lambda function named 'starts_with' that checks if a given string starts with the letter 'P'. The lambda function uses the \"startswith()\" method, which returns 'True' if the string starts with the specified prefix ('P' in this case), otherwise it returns 'False'.\n",
    "- Calls the \"starts_with()\" lambda function with the string 'Python' as an argument:\n",
    "    - The lambda function checks if the string 'Python' starts with 'P'.\n",
    "    - Prints the result of this check, which will be 'True' since the string 'Python' starts with 'P'.\n",
    "- Redefines the lambda function \"starts_with()\" (although it's the same as before) and uses it to check if the string 'Java' starts with 'P':\n",
    "    - The lambda function checks if the string 'Java' starts with 'P'.\n",
    "    - Prints the result of this check, which will be 'False' since the string 'Java' does not start with 'P'."
   ]
  },
  {
   "cell_type": "code",
   "execution_count": null,
   "metadata": {},
   "outputs": [],
   "source": []
  }
 ],
 "metadata": {
  "kernelspec": {
   "display_name": "Python 3",
   "language": "python",
   "name": "python3"
  },
  "language_info": {
   "codemirror_mode": {
    "name": "ipython",
    "version": 3
   },
   "file_extension": ".py",
   "mimetype": "text/x-python",
   "name": "python",
   "nbconvert_exporter": "python",
   "pygments_lexer": "ipython3",
   "version": "3.12.3"
  }
 },
 "nbformat": 4,
 "nbformat_minor": 2
}
