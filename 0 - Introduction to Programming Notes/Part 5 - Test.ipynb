{
 "cells": [
  {
   "cell_type": "markdown",
   "metadata": {},
   "source": [
    "Create the function `get_middle(str)` to return the middle characters from the passed string `str`. If `str` has less than 3 characters then return `str`. If `str` has an odd length then return the middle character. If `str` has an even length return the two middle characters. For example, `get_middle('abc')` returns `'b'` and `get_middle('abcd')` returns `'bc'`."
   ]
  },
  {
   "cell_type": "code",
   "execution_count": 13,
   "metadata": {},
   "outputs": [
    {
     "data": {
      "text/plain": [
       "'d'"
      ]
     },
     "execution_count": 13,
     "metadata": {},
     "output_type": "execute_result"
    }
   ],
   "source": [
    "def get_middle(str):\n",
    "    num_chars = len(str)\n",
    "    mid = num_chars // 2\n",
    "    if num_chars < 3:\n",
    "        return str\n",
    "    elif num_chars % 2 == 1:\n",
    "        return str[mid]\n",
    "    else:\n",
    "        return str[mid-1:mid+1]\n",
    "    \n",
    "get_middle('abcd')"
   ]
  },
  {
   "cell_type": "markdown",
   "metadata": {},
   "source": [
    "Create the function `combine(names, ages)` that takes in two lists, `names` and `ages` and returns a list of strings in the format `\"Name: name, age: age\"`. For example, `combine([\"Claire\", \"Jennifer\"],[23, 19])` would return `[\"Name: Claire, age: 23\", \"Name: Jennfier, age: 19\"]`."
   ]
  },
  {
   "cell_type": "code",
   "execution_count": 7,
   "metadata": {},
   "outputs": [
    {
     "data": {
      "text/plain": [
       "['Name: Claire, age: 23', 'Name: Jennifer, age: 19']"
      ]
     },
     "execution_count": 7,
     "metadata": {},
     "output_type": "execute_result"
    }
   ],
   "source": [
    "def combine(names, ages):\n",
    "    newlist = []\n",
    "    for i in range(len(names)):\n",
    "        s = \"Name: \" + names[i] + \", \" + \"age: \" + str(ages[i])\n",
    "        newlist.append(s)\n",
    "    return newlist\n",
    "\n",
    "combine([\"Claire\", \"Jennifer\"],[23, 19])"
   ]
  },
  {
   "cell_type": "markdown",
   "metadata": {},
   "source": [
    "Create the function `has22(nums)` below to return `True` if there are at least two items in the list `nums` that are adjacent and both equal to `2`, otherwise return `False`. For example, return `True` for `has22([1, 2, 2])` since there are two adjacent items equal to `2` (at index 1 and 2) and `False` for `has22([2, 1, 2])` since the `2`’s are not adjacent."
   ]
  },
  {
   "cell_type": "code",
   "execution_count": 9,
   "metadata": {},
   "outputs": [
    {
     "data": {
      "text/plain": [
       "False"
      ]
     },
     "execution_count": 9,
     "metadata": {},
     "output_type": "execute_result"
    }
   ],
   "source": [
    "def has22(nums):\n",
    "    for i in range(len(nums) - 1):\n",
    "        if nums[i] == 2 and nums[i+1] == 2:\n",
    "            return True\n",
    "    return False\n",
    "\n",
    "has22([2, 1, 2])"
   ]
  },
  {
   "cell_type": "markdown",
   "metadata": {},
   "source": [
    "Create the function `sum13(nums)` to return the sum of the numbers in the list `nums`, returning `0` for an empty list. Except the number 13 is very unlucky, so it does not count and a number that comes immediately after a 13 also does not count. For example, `sum13([13,1,2])` returns `2` and `sum13([1,13])` returns `1`."
   ]
  },
  {
   "cell_type": "code",
   "execution_count": 12,
   "metadata": {},
   "outputs": [
    {
     "data": {
      "text/plain": [
       "0"
      ]
     },
     "execution_count": 12,
     "metadata": {},
     "output_type": "execute_result"
    }
   ],
   "source": [
    "def sum_13(nums):\n",
    "    total = 0\n",
    "    found_13 = False\n",
    "    for num in nums:\n",
    "        if found_13:\n",
    "            found_13 = False\n",
    "        elif num == 13:\n",
    "            found_13 = True\n",
    "        else:\n",
    "            total += num\n",
    "    return total\n",
    "\n",
    "sum_13([13, 1])"
   ]
  },
  {
   "cell_type": "markdown",
   "metadata": {},
   "source": [
    "Finish the function `upper_center(str)` to return the passed string `str` with the middle character(s) in uppercase. If `str` has less than 3 characters then return `str`. If `str` has an odd length, uppercase the middle character. If `str` has an even length, uppercase the middle two characters. For example, `upper_center('abc')` returns `'aBc'` and `upper_center('abcd')` returns `'aBCd'`."
   ]
  },
  {
   "cell_type": "code",
   "execution_count": 15,
   "metadata": {},
   "outputs": [
    {
     "name": "stdout",
     "output_type": "stream",
     "text": [
      "abcDefg\n"
     ]
    }
   ],
   "source": [
    "def upper_center(str):\n",
    "    mid = len(str) // 2\n",
    "    if len(str) < 3:\n",
    "        return str\n",
    "    if len(str) % 2 == 0:\n",
    "        return str[:mid-1] + str[mid-1:mid+1].upper() + str[mid+1:]\n",
    "    else:\n",
    "        return str[:mid] + str[mid].upper() + str[mid+1:]\n",
    "    \n",
    "print(upper_center('abcdefg'))"
   ]
  },
  {
   "cell_type": "markdown",
   "metadata": {},
   "source": [
    "Write a function `is_descending(nums)` that returns `True` if the numbers in the list `nums` are sorted in descending order and `False` otherwise. If the list `nums` has less than two numbers in it return `True`. For example, `is_descending([2,3,4])` should return `False`, `is_descending([1])` should return `True`, and `is_descending([4,3,2])` should return True."
   ]
  },
  {
   "cell_type": "code",
   "execution_count": 22,
   "metadata": {},
   "outputs": [
    {
     "name": "stdout",
     "output_type": "stream",
     "text": [
      "False\n"
     ]
    }
   ],
   "source": [
    "def is_descending(nums):\n",
    "    if len(nums) < 2:\n",
    "        return True\n",
    "    for i in range(len(nums)-1):\n",
    "        if nums[i] > nums[i+1]:\n",
    "            continue\n",
    "        else: \n",
    "            return False\n",
    "    return True\n",
    "\n",
    "print(is_descending([4,3,2,1,5]))"
   ]
  },
  {
   "cell_type": "markdown",
   "metadata": {},
   "source": [
    "Fix the `sum67` function below that takes a list of numbers and returns the total of the numbers in the list except for all the numbers whose position is between a 6 and 7 in the list (inclusive). For example, `sum67([1,2])` should return `3` and `sum67([2, 6, 8, 7, 2])` should return `4`"
   ]
  },
  {
   "cell_type": "code",
   "execution_count": 17,
   "metadata": {},
   "outputs": [
    {
     "data": {
      "text/plain": [
       "4"
      ]
     },
     "execution_count": 17,
     "metadata": {},
     "output_type": "execute_result"
    }
   ],
   "source": [
    "def sum67(nums):\n",
    "    total = 0               # initialize the total\n",
    "    found_6 = False         # initialize a Boolean flag\n",
    "    for num in nums:        # loop through the items in a list\n",
    "        if found_6 and num == 7:\n",
    "            found_6 = False # set the Boolean flag to false\n",
    "        elif num == 6:\n",
    "            found_6 = True  # set the Boolean flag to True\n",
    "        elif found_6:\n",
    "            continue        # go back to the top of the loop\n",
    "        else:\n",
    "            total += num    # add num to total\n",
    "    return total            # return the total\n",
    "\n",
    "sum67([2, 6, 8, 7, 2])"
   ]
  },
  {
   "cell_type": "markdown",
   "metadata": {},
   "source": [
    "Write a function `olympic(cities, years)` that takes in two lists, `cities` and `years` and returns a list of strings in the format `\"City: city, year: year\"`. For example, `olympic([\"Paris\", \"London\"],[2024, 2012])` would return `[\"City: Paris, year: 2024\", \"City: London, year: 2012\"]`."
   ]
  },
  {
   "cell_type": "code",
   "execution_count": 1,
   "metadata": {},
   "outputs": [
    {
     "data": {
      "text/plain": [
       "['City: Paris, year: 2024', 'City: London, year: 2012']"
      ]
     },
     "execution_count": 1,
     "metadata": {},
     "output_type": "execute_result"
    }
   ],
   "source": [
    "def olympic(cities, years):\n",
    "    combined_list = []\n",
    "    for i in range(len(cities)):\n",
    "        combined_list.append(f\"City: {cities[i]}, year: {years[i]}\")\n",
    "    return combined_list\n",
    "\n",
    "olympic([\"Paris\", \"London\"],[2024, 2012])"
   ]
  }
 ],
 "metadata": {
  "kernelspec": {
   "display_name": "Python 3",
   "language": "python",
   "name": "python3"
  },
  "language_info": {
   "codemirror_mode": {
    "name": "ipython",
    "version": 3
   },
   "file_extension": ".py",
   "mimetype": "text/x-python",
   "name": "python",
   "nbconvert_exporter": "python",
   "pygments_lexer": "ipython3",
   "version": "3.12.3"
  }
 },
 "nbformat": 4,
 "nbformat_minor": 2
}
