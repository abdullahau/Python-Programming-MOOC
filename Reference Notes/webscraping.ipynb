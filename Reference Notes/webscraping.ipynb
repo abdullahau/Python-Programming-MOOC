{
 "cells": [
  {
   "cell_type": "code",
   "execution_count": 6,
   "metadata": {},
   "outputs": [],
   "source": [
    "import requests\n",
    "from bs4 import BeautifulSoup"
   ]
  },
  {
   "cell_type": "code",
   "execution_count": 23,
   "metadata": {},
   "outputs": [],
   "source": [
    "URL = 'https://identity.ae/id50-2025/'\n",
    "page = requests.get(URL)\n",
    "\n",
    "ID502025_soup = BeautifulSoup(page.content, \"html.parser\")\n",
    "ID_50_2025 = ID502025_soup.find_all('h3')"
   ]
  },
  {
   "cell_type": "code",
   "execution_count": 24,
   "metadata": {},
   "outputs": [],
   "source": [
    "URL = 'https://identity.ae/id50-2024-celebrating-all-50-regional-talents-from-designers-and-architects-to-fit-out-firms-and-art-galleries/'\n",
    "page = requests.get(URL)\n",
    "\n",
    "ID502024_soup = BeautifulSoup(page.content, \"html.parser\")\n",
    "ID_50_2024 = ID502024_soup.find_all('h3')"
   ]
  },
  {
   "cell_type": "code",
   "execution_count": 28,
   "metadata": {},
   "outputs": [],
   "source": [
    "with open('test.csv', 'a') as file:\n",
    "    for result in ID_50_2025:\n",
    "        line = result.text + '\\n'\n",
    "        file.write(line)"
   ]
  },
  {
   "cell_type": "code",
   "execution_count": 29,
   "metadata": {},
   "outputs": [],
   "source": [
    "with open('test.csv', 'a') as file:\n",
    "    for result in ID_50_2024:\n",
    "        line = result.text + '\\n'\n",
    "        file.write(line)"
   ]
  }
 ],
 "metadata": {
  "kernelspec": {
   "display_name": "main",
   "language": "python",
   "name": "main"
  },
  "language_info": {
   "codemirror_mode": {
    "name": "ipython",
    "version": 3
   },
   "file_extension": ".py",
   "mimetype": "text/x-python",
   "name": "python",
   "nbconvert_exporter": "python",
   "pygments_lexer": "ipython3",
   "version": "3.13.2"
  }
 },
 "nbformat": 4,
 "nbformat_minor": 2
}
